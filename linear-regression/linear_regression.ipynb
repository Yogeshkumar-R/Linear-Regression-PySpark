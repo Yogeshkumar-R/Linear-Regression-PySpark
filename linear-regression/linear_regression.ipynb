{
 "cells": [
  {
   "cell_type": "markdown",
   "metadata": {},
   "source": [
    "## ASSIGNMENT 2"
   ]
  },
  {
   "cell_type": "markdown",
   "metadata": {},
   "source": [
    "### Create a Regression Model\n",
    "Create a regression model that will predict how many crew members will be needed for future ships\n"
   ]
  },
  {
   "cell_type": "markdown",
   "metadata": {},
   "source": [
    "## Import the Spark and MlLib Libraries"
   ]
  },
  {
   "cell_type": "code",
   "execution_count": 2,
   "metadata": {},
   "outputs": [],
   "source": [
    "from pyspark import SparkConf,SparkContext\n",
    "from pyspark.sql import SQLContext,SparkSession\n",
    "from pyspark.ml.regression import LinearRegression"
   ]
  },
  {
   "cell_type": "markdown",
   "metadata": {},
   "source": [
    "## Load Dataset"
   ]
  },
  {
   "cell_type": "code",
   "execution_count": 3,
   "metadata": {},
   "outputs": [],
   "source": [
    "spark=SparkSession.builder.appName(\"Cruise\").getOrCreate()\n",
    "\n",
    "cruise_df=spark.read.option(\"header\",'True').option('delimiter',',').csv(\"cruise_line_info.csv\")"
   ]
  },
  {
   "cell_type": "code",
   "execution_count": 4,
   "metadata": {},
   "outputs": [
    {
     "data": {
      "text/plain": [
       "[Row(Ship_name='Journey', Cruise_line='Azamara', Age='6', Tonnage='30.277', passengers='6.94', length='5.94', cabins='3.55', passenger_density='42.64', crew='3.55')]"
      ]
     },
     "execution_count": 4,
     "metadata": {},
     "output_type": "execute_result"
    }
   ],
   "source": [
    "#viewing the dataframe\n",
    "cruise_df.take(1)"
   ]
  },
  {
   "cell_type": "markdown",
   "metadata": {},
   "source": [
    "## Data Exploration\n",
    "\n",
    "Print Schema in a tree format"
   ]
  },
  {
   "cell_type": "code",
   "execution_count": 5,
   "metadata": {},
   "outputs": [
    {
     "name": "stdout",
     "output_type": "stream",
     "text": [
      "root\n",
      " |-- Ship_name: string (nullable = true)\n",
      " |-- Cruise_line: string (nullable = true)\n",
      " |-- Age: string (nullable = true)\n",
      " |-- Tonnage: string (nullable = true)\n",
      " |-- passengers: string (nullable = true)\n",
      " |-- length: string (nullable = true)\n",
      " |-- cabins: string (nullable = true)\n",
      " |-- passenger_density: string (nullable = true)\n",
      " |-- crew: string (nullable = true)\n",
      "\n"
     ]
    }
   ],
   "source": [
    "cruise_df.cache()\n",
    "cruise_df.printSchema()"
   ]
  },
  {
   "cell_type": "markdown",
   "metadata": {},
   "source": [
    "Perform Descriptive analytics"
   ]
  },
  {
   "cell_type": "code",
   "execution_count": 6,
   "metadata": {},
   "outputs": [
    {
     "data": {
      "text/html": [
       "<div>\n",
       "<style scoped>\n",
       "    .dataframe tbody tr th:only-of-type {\n",
       "        vertical-align: middle;\n",
       "    }\n",
       "\n",
       "    .dataframe tbody tr th {\n",
       "        vertical-align: top;\n",
       "    }\n",
       "\n",
       "    .dataframe thead th {\n",
       "        text-align: right;\n",
       "    }\n",
       "</style>\n",
       "<table border=\"1\" class=\"dataframe\">\n",
       "  <thead>\n",
       "    <tr style=\"text-align: right;\">\n",
       "      <th></th>\n",
       "      <th>0</th>\n",
       "      <th>1</th>\n",
       "      <th>2</th>\n",
       "      <th>3</th>\n",
       "      <th>4</th>\n",
       "    </tr>\n",
       "  </thead>\n",
       "  <tbody>\n",
       "    <tr>\n",
       "      <th>summary</th>\n",
       "      <td>count</td>\n",
       "      <td>mean</td>\n",
       "      <td>stddev</td>\n",
       "      <td>min</td>\n",
       "      <td>max</td>\n",
       "    </tr>\n",
       "    <tr>\n",
       "      <th>Ship_name</th>\n",
       "      <td>158</td>\n",
       "      <td>Infinity</td>\n",
       "      <td>None</td>\n",
       "      <td>Adventure</td>\n",
       "      <td>Zuiderdam</td>\n",
       "    </tr>\n",
       "    <tr>\n",
       "      <th>Cruise_line</th>\n",
       "      <td>158</td>\n",
       "      <td>None</td>\n",
       "      <td>None</td>\n",
       "      <td>Azamara</td>\n",
       "      <td>Windstar</td>\n",
       "    </tr>\n",
       "    <tr>\n",
       "      <th>Age</th>\n",
       "      <td>158</td>\n",
       "      <td>15.689873417721518</td>\n",
       "      <td>7.615691058751413</td>\n",
       "      <td>10</td>\n",
       "      <td>9</td>\n",
       "    </tr>\n",
       "    <tr>\n",
       "      <th>Tonnage</th>\n",
       "      <td>158</td>\n",
       "      <td>71.28467088607599</td>\n",
       "      <td>37.229540025907866</td>\n",
       "      <td>10</td>\n",
       "      <td>93</td>\n",
       "    </tr>\n",
       "    <tr>\n",
       "      <th>passengers</th>\n",
       "      <td>158</td>\n",
       "      <td>18.45740506329114</td>\n",
       "      <td>9.677094775143416</td>\n",
       "      <td>0.66</td>\n",
       "      <td>9.52</td>\n",
       "    </tr>\n",
       "    <tr>\n",
       "      <th>length</th>\n",
       "      <td>158</td>\n",
       "      <td>8.130632911392404</td>\n",
       "      <td>1.793473548054825</td>\n",
       "      <td>10.2</td>\n",
       "      <td>9.65</td>\n",
       "    </tr>\n",
       "    <tr>\n",
       "      <th>cabins</th>\n",
       "      <td>158</td>\n",
       "      <td>8.830000000000005</td>\n",
       "      <td>4.4714172221480615</td>\n",
       "      <td>0.33</td>\n",
       "      <td>9.87</td>\n",
       "    </tr>\n",
       "    <tr>\n",
       "      <th>passenger_density</th>\n",
       "      <td>158</td>\n",
       "      <td>39.90094936708861</td>\n",
       "      <td>8.63921711391542</td>\n",
       "      <td>17.7</td>\n",
       "      <td>71.43</td>\n",
       "    </tr>\n",
       "    <tr>\n",
       "      <th>crew</th>\n",
       "      <td>158</td>\n",
       "      <td>7.794177215189873</td>\n",
       "      <td>3.503486564627034</td>\n",
       "      <td>0.59</td>\n",
       "      <td>9.99</td>\n",
       "    </tr>\n",
       "  </tbody>\n",
       "</table>\n",
       "</div>"
      ],
      "text/plain": [
       "                       0                   1                   2          3  \\\n",
       "summary            count                mean              stddev        min   \n",
       "Ship_name            158            Infinity                None  Adventure   \n",
       "Cruise_line          158                None                None    Azamara   \n",
       "Age                  158  15.689873417721518   7.615691058751413         10   \n",
       "Tonnage              158   71.28467088607599  37.229540025907866         10   \n",
       "passengers           158   18.45740506329114   9.677094775143416       0.66   \n",
       "length               158   8.130632911392404   1.793473548054825       10.2   \n",
       "cabins               158   8.830000000000005  4.4714172221480615       0.33   \n",
       "passenger_density    158   39.90094936708861    8.63921711391542       17.7   \n",
       "crew                 158   7.794177215189873   3.503486564627034       0.59   \n",
       "\n",
       "                           4  \n",
       "summary                  max  \n",
       "Ship_name          Zuiderdam  \n",
       "Cruise_line         Windstar  \n",
       "Age                        9  \n",
       "Tonnage                   93  \n",
       "passengers              9.52  \n",
       "length                  9.65  \n",
       "cabins                  9.87  \n",
       "passenger_density      71.43  \n",
       "crew                    9.99  "
      ]
     },
     "execution_count": 6,
     "metadata": {},
     "output_type": "execute_result"
    }
   ],
   "source": [
    "cruise_df.describe().toPandas().transpose() "
   ]
  },
  {
   "cell_type": "markdown",
   "metadata": {},
   "source": [
    "## Preparing data for Prediction"
   ]
  },
  {
   "cell_type": "code",
   "execution_count": 7,
   "metadata": {},
   "outputs": [],
   "source": [
    "# Cast Course_Fees from integer type to float type \n",
    "cruise_df2 = cruise_df.withColumn(\"Age\", cruise_df[\"Age\"].cast('int')).withColumn(\"Tonnage\",cruise_df[\"Tonnage\"].cast(\"float\")) \\\n",
    ".withColumn(\"passengers\",cruise_df[\"passengers\"].cast(\"float\")).withColumn(\"length\",cruise_df[\"length\"].cast(\"float\")) \\\n",
    ".withColumn(\"cabins\",cruise_df[\"cabins\"].cast(\"float\")).withColumn(\"passenger_density\",cruise_df[\"passenger_density\"].cast(\"float\")) \\\n",
    ".withColumn(\"crew\", cruise_df[\"crew\"].cast('float'))"
   ]
  },
  {
   "cell_type": "code",
   "execution_count": 9,
   "metadata": {},
   "outputs": [
    {
     "name": "stdout",
     "output_type": "stream",
     "text": [
      "root\n",
      " |-- Ship_name: string (nullable = true)\n",
      " |-- Cruise_line: string (nullable = true)\n",
      " |-- Age: integer (nullable = true)\n",
      " |-- Tonnage: float (nullable = true)\n",
      " |-- passengers: float (nullable = true)\n",
      " |-- length: float (nullable = true)\n",
      " |-- cabins: float (nullable = true)\n",
      " |-- passenger_density: float (nullable = true)\n",
      " |-- crew: float (nullable = true)\n",
      "\n"
     ]
    }
   ],
   "source": [
    "#print the tree schema\n",
    "cruise_df2.cache()\n",
    "cruise_df2.printSchema()"
   ]
  },
  {
   "cell_type": "code",
   "execution_count": 10,
   "metadata": {},
   "outputs": [
    {
     "name": "stdout",
     "output_type": "stream",
     "text": [
      "+--------------------+----+\n",
      "|            features|crew|\n",
      "+--------------------+----+\n",
      "|[6.0,30.277000427...|3.55|\n",
      "|[6.0,30.277000427...|3.55|\n",
      "|[26.0,47.26200103...| 6.7|\n",
      "|[11.0,110.0,29.73...|19.1|\n",
      "|[17.0,101.3529968...|10.0|\n",
      "+--------------------+----+\n",
      "only showing top 5 rows\n",
      "\n"
     ]
    }
   ],
   "source": [
    "#import vector Assembler\n",
    "from pyspark.ml.feature import VectorAssembler\n",
    "\n",
    "input_cols = ['Age', 'Tonnage', 'passengers', 'length', 'cabins', 'passenger_density']\n",
    "\n",
    "vectorAssembler = VectorAssembler(inputCols=input_cols,outputCol='features')\n",
    "vcruise_df = vectorAssembler.transform(cruise_df2)\n",
    "vcruise_df = vcruise_df.select(['features','crew'])\n",
    "vcruise_df.show(5)\n",
    "\n"
   ]
  },
  {
   "cell_type": "markdown",
   "metadata": {},
   "source": [
    "## Spliting the Transformed  Data"
   ]
  },
  {
   "cell_type": "code",
   "execution_count": 11,
   "metadata": {},
   "outputs": [],
   "source": [
    "#spliting the data into training and testing sets\n",
    "splits = vcruise_df.randomSplit([0.7, 0.3])\n",
    "train_df = splits[0]\n",
    "test_df = splits[1]"
   ]
  },
  {
   "cell_type": "code",
   "execution_count": 12,
   "metadata": {},
   "outputs": [
    {
     "name": "stdout",
     "output_type": "stream",
     "text": [
      "+--------------------+-----+\n",
      "|            features| crew|\n",
      "+--------------------+-----+\n",
      "|[5.0,133.5,39.590...|13.13|\n",
      "|[5.0,160.0,36.340...| 13.6|\n",
      "|[6.0,90.0,20.0,9....|  9.0|\n",
      "|[6.0,110.23899841...| 11.5|\n",
      "|[6.0,158.0,43.700...| 13.6|\n",
      "|[7.0,158.0,43.700...| 13.6|\n",
      "|[8.0,91.0,22.4400...| 11.0|\n",
      "|[8.0,110.0,29.739...| 11.6|\n",
      "|[9.0,90.089996337...| 8.69|\n",
      "|[9.0,105.0,27.200...|10.68|\n",
      "|[10.0,46.0,7.0,6....| 4.47|\n",
      "|[10.0,77.0,20.159...|  9.0|\n",
      "|[10.0,110.0,29.73...| 11.6|\n",
      "|[11.0,85.0,18.479...|  8.0|\n",
      "|[11.0,90.0,22.399...| 11.0|\n",
      "|[11.0,110.0,29.73...| 19.1|\n",
      "|[12.0,25.0,3.8800...| 2.87|\n",
      "|[12.0,77.10399627...| 9.59|\n",
      "|[12.0,88.5,21.239...|  9.3|\n",
      "|[12.0,91.0,20.319...| 9.99|\n",
      "+--------------------+-----+\n",
      "only showing top 20 rows\n",
      "\n"
     ]
    }
   ],
   "source": [
    "test_df.show()"
   ]
  },
  {
   "cell_type": "markdown",
   "metadata": {},
   "source": [
    "## Model Training and Prediction"
   ]
  },
  {
   "cell_type": "code",
   "execution_count": 13,
   "metadata": {},
   "outputs": [
    {
     "name": "stdout",
     "output_type": "stream",
     "text": [
      "Coefficients: [0.0,0.015481269317929005,0.0,0.4236953185227631,0.4124017227861518,0.0]\n",
      "Intercept: -0.38371407416748227\n"
     ]
    }
   ],
   "source": [
    "lr = LinearRegression(featuresCol = 'features', labelCol='crew', maxIter=10, regParam=0.3, elasticNetParam=0.8)\n",
    "lr_model = lr.fit(train_df)\n",
    "print(\"Coefficients: \" + str(lr_model.coefficients))\n",
    "print(\"Intercept: \" + str(lr_model.intercept))"
   ]
  },
  {
   "cell_type": "markdown",
   "metadata": {},
   "source": [
    "### Summarize the model and print the training summary"
   ]
  },
  {
   "cell_type": "code",
   "execution_count": 14,
   "metadata": {},
   "outputs": [
    {
     "name": "stdout",
     "output_type": "stream",
     "text": [
      "RMSE: 0.902518\n",
      "r2: 0.929520\n"
     ]
    }
   ],
   "source": [
    "trainingSummary = lr_model.summary\n",
    "print(\"RMSE: %f\" % trainingSummary.rootMeanSquaredError)\n",
    "print(\"r2: %f\" % trainingSummary.r2)"
   ]
  },
  {
   "cell_type": "markdown",
   "metadata": {},
   "source": [
    "R Squared at 0.93 indicates 93% of variability in 'crew'"
   ]
  },
  {
   "cell_type": "code",
   "execution_count": 15,
   "metadata": {},
   "outputs": [
    {
     "name": "stdout",
     "output_type": "stream",
     "text": [
      "+-------+------------------+\n",
      "|summary|              crew|\n",
      "+-------+------------------+\n",
      "|  count|               106|\n",
      "|   mean| 7.809339609910857|\n",
      "| stddev|3.4157166980743097|\n",
      "|    min|              0.59|\n",
      "|    max|              21.0|\n",
      "+-------+------------------+\n",
      "\n"
     ]
    }
   ],
   "source": [
    "train_df.describe().show()"
   ]
  },
  {
   "cell_type": "markdown",
   "metadata": {},
   "source": [
    "## Prediction  of Crew for the Test Data"
   ]
  },
  {
   "cell_type": "code",
   "execution_count": 16,
   "metadata": {},
   "outputs": [
    {
     "name": "stdout",
     "output_type": "stream",
     "text": [
      "+------------------+-----+--------------------+\n",
      "|        prediction| crew|            features|\n",
      "+------------------+-----+--------------------+\n",
      "|13.065041888641995|13.13|[5.0,133.5,39.590...|\n",
      "|14.298120244674335| 13.6|[5.0,160.0,36.340...|\n",
      "| 9.337636892207433|  9.0|[6.0,90.0,20.0,9....|\n",
      "|11.484681696366335| 11.5|[6.0,110.23899841...|\n",
      "|14.252129821597116| 13.6|[6.0,158.0,43.700...|\n",
      "|14.197049381701076| 13.6|[7.0,158.0,43.700...|\n",
      "| 9.740888535665547| 11.0|[8.0,91.0,22.4400...|\n",
      "|11.480981697566794| 11.6|[8.0,110.0,29.739...|\n",
      "| 9.598617011921391| 8.69|[9.0,90.089996337...|\n",
      "|10.604874911471585|10.68|[9.0,105.0,27.200...|\n",
      "|3.9177540248484233| 4.47|[10.0,46.0,7.0,6....|\n",
      "| 8.456092564822514|  9.0|[10.0,77.0,20.159...|\n",
      "|11.480981697566794| 11.6|[10.0,110.0,29.73...|\n",
      "| 8.772128218136901|  8.0|[11.0,85.0,18.479...|\n",
      "| 9.717159043109367| 11.0|[11.0,90.0,22.399...|\n",
      "|11.493579505441355| 19.1|[11.0,110.0,29.73...|\n",
      "| 3.332837987269773| 2.87|[12.0,25.0,3.8800...|\n",
      "| 8.552215951024069| 9.59|[12.0,77.10399627...|\n",
      "| 9.858672197910977|  9.3|[12.0,88.5,21.239...|\n",
      "| 9.134657893046763| 9.99|[12.0,91.0,20.319...|\n",
      "+------------------+-----+--------------------+\n",
      "only showing top 20 rows\n",
      "\n",
      "R Squared (R2) on test data = 0.87668\n"
     ]
    }
   ],
   "source": [
    "lr_predictions = lr_model.transform(test_df)\n",
    "lr_predictions.select(\"prediction\",\"crew\",\"features\").show()\n",
    "\n",
    "from pyspark.ml.evaluation import RegressionEvaluator\n",
    "\n",
    "lr_evaluator = RegressionEvaluator(predictionCol=\"prediction\", \\\n",
    "                 labelCol=\"crew\",metricName=\"r2\")\n",
    "print(\"R Squared (R2) on test data = %g\" % lr_evaluator.evaluate(lr_predictions))"
   ]
  },
  {
   "cell_type": "code",
   "execution_count": 17,
   "metadata": {},
   "outputs": [
    {
     "name": "stdout",
     "output_type": "stream",
     "text": [
      "Root Mean Squared Error (RMSE) on test data = 1.29024\n"
     ]
    }
   ],
   "source": [
    "#print RMSE for test data\n",
    "test_result = lr_model.evaluate(test_df)\n",
    "print(\"Root Mean Squared Error (RMSE) on test data = %g\" % test_result.rootMeanSquaredError)"
   ]
  },
  {
   "cell_type": "code",
   "execution_count": 18,
   "metadata": {},
   "outputs": [
    {
     "name": "stdout",
     "output_type": "stream",
     "text": [
      "numIterations: 10\n",
      "objectiveHistory: [0.5000000000000004, 0.4231538672963231, 0.11358701388073573, 0.11160100233876376, 0.10754283733636905, 0.10674764595422753, 0.10579947526720045, 0.1033690392974422, 0.10344550525945101, 0.10277190265081265, 0.10275484491293874]\n",
      "+--------------------+\n",
      "|           residuals|\n",
      "+--------------------+\n",
      "|  1.8349097733594917|\n",
      "|  -1.128208840080843|\n",
      "|   0.672115777937087|\n",
      "| -2.0149733697147063|\n",
      "| -0.5157886837647272|\n",
      "| -0.5157886837647272|\n",
      "|  1.0088477861968705|\n",
      "| -0.6655568888302099|\n",
      "| 0.18389336718849947|\n",
      "|-0.46324157860027704|\n",
      "| 0.13744955923471203|\n",
      "|  0.5361822732837247|\n",
      "| 0.13121141444544726|\n",
      "|  0.8065507812672035|\n",
      "|-0.26177864243119764|\n",
      "|  0.8537297156100383|\n",
      "| 0.11478163374154349|\n",
      "|  1.4711771930995656|\n",
      "|  1.4711771930995656|\n",
      "| 0.19732186094010373|\n",
      "+--------------------+\n",
      "only showing top 20 rows\n",
      "\n"
     ]
    }
   ],
   "source": [
    "print(\"numIterations: %d\" % trainingSummary.totalIterations)\n",
    "print(\"objectiveHistory: %s\" % str(trainingSummary.objectiveHistory))\n",
    "trainingSummary.residuals.show()"
   ]
  },
  {
   "cell_type": "markdown",
   "metadata": {},
   "source": [
    "### Using our Linear Regression model to make some predictions:"
   ]
  },
  {
   "cell_type": "code",
   "execution_count": 19,
   "metadata": {},
   "outputs": [
    {
     "name": "stdout",
     "output_type": "stream",
     "text": [
      "+------------------+-----+--------------------+\n",
      "|        prediction| crew|            features|\n",
      "+------------------+-----+--------------------+\n",
      "|13.065041888641995|13.13|[5.0,133.5,39.590...|\n",
      "|14.298120244674335| 13.6|[5.0,160.0,36.340...|\n",
      "| 9.337636892207433|  9.0|[6.0,90.0,20.0,9....|\n",
      "|11.484681696366335| 11.5|[6.0,110.23899841...|\n",
      "|14.252129821597116| 13.6|[6.0,158.0,43.700...|\n",
      "|14.197049381701076| 13.6|[7.0,158.0,43.700...|\n",
      "| 9.740888535665547| 11.0|[8.0,91.0,22.4400...|\n",
      "|11.480981697566794| 11.6|[8.0,110.0,29.739...|\n",
      "| 9.598617011921391| 8.69|[9.0,90.089996337...|\n",
      "|10.604874911471585|10.68|[9.0,105.0,27.200...|\n",
      "|3.9177540248484233| 4.47|[10.0,46.0,7.0,6....|\n",
      "| 8.456092564822514|  9.0|[10.0,77.0,20.159...|\n",
      "|11.480981697566794| 11.6|[10.0,110.0,29.73...|\n",
      "| 8.772128218136901|  8.0|[11.0,85.0,18.479...|\n",
      "| 9.717159043109367| 11.0|[11.0,90.0,22.399...|\n",
      "|11.493579505441355| 19.1|[11.0,110.0,29.73...|\n",
      "| 3.332837987269773| 2.87|[12.0,25.0,3.8800...|\n",
      "| 8.552215951024069| 9.59|[12.0,77.10399627...|\n",
      "| 9.858672197910977|  9.3|[12.0,88.5,21.239...|\n",
      "| 9.134657893046763| 9.99|[12.0,91.0,20.319...|\n",
      "+------------------+-----+--------------------+\n",
      "only showing top 20 rows\n",
      "\n"
     ]
    }
   ],
   "source": [
    "predictions = lr_model.transform(test_df)\n",
    "predictions.select(\"prediction\",\"crew\",\"features\").show()"
   ]
  }
 ],
 "metadata": {
  "kernelspec": {
   "display_name": "Python 3",
   "language": "python",
   "name": "python3"
  },
  "language_info": {
   "codemirror_mode": {
    "name": "ipython",
    "version": 3
   },
   "file_extension": ".py",
   "mimetype": "text/x-python",
   "name": "python",
   "nbconvert_exporter": "python",
   "pygments_lexer": "ipython3",
   "version": "3.11.8"
  }
 },
 "nbformat": 4,
 "nbformat_minor": 2
}
